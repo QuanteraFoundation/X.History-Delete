{
 "cells": [
  {
   "cell_type": "code",
   "execution_count": null,
   "id": "4e22bb3b",
   "metadata": {},
   "outputs": [],
   "source": [
    "import sys\n",
    "!{sys.executable} -m pip install selenium"
   ]
  },
  {
   "cell_type": "code",
   "execution_count": 1,
   "id": "6f1c1821",
   "metadata": {},
   "outputs": [],
   "source": [
    "from selenium import webdriver\n",
    "\n",
    "driver = webdriver.Chrome()\n",
    "\n",
    "def openPage(page, keep=False):\n",
    "    driver.get(page)\n",
    "    if keep:\n",
    "        time.sleep(3600)"
   ]
  },
  {
   "cell_type": "code",
   "execution_count": 2,
   "id": "c553b8fc",
   "metadata": {},
   "outputs": [],
   "source": [
    "openPage(\"https://twitter.com/\")"
   ]
  },
  {
   "cell_type": "code",
   "execution_count": 2,
   "id": "a7589d18",
   "metadata": {},
   "outputs": [
    {
     "name": "stdout",
     "output_type": "stream",
     "text": [
      "deployonf@gmail.com HedgeFunDev !^utY2NfgNvFE5&SjRjiju$4Q4rTo9UXTRA35hRrY#QBt7PyPA*PP3Yt*2T2R6!rYnVRNAGqvW!qRJ8F%G9y@wsbb^yC9Zd&o9s*6ycQg!D*Yks5bu7%Sec#hmmhZ5%e\n"
     ]
    }
   ],
   "source": [
    "# Your Uni-Key\n",
    "from my import email, user, password\n",
    "print(email, user, password)"
   ]
  },
  {
   "cell_type": "code",
   "execution_count": 4,
   "id": "6726c043",
   "metadata": {},
   "outputs": [],
   "source": [
    "import time\n",
    "\n",
    "from selenium.webdriver.common.by import By\n",
    "from selenium.webdriver.common.keys import Keys\n",
    "\n",
    "def enter(ele, tab_times=1):\n",
    "    for i in range(tab_times):\n",
    "        ele.send_keys(Keys.TAB)\n",
    "    ele.send_keys(Keys.RETURN)\n",
    "    time.sleep(1)\n",
    "\n",
    "def getInput():\n",
    "    return driver.find_element(By.TAG_NAME, \"input\")\n",
    "\n",
    "def getInputs():\n",
    "    '''Return every field with \"<input\"'''\n",
    "    return driver.find_elements(By.TAG_NAME, \"input\")\n",
    "\n",
    "def login():\n",
    "    page = \"https://twitter.com/i/flow/login?redirect_after_login=%2F\"\n",
    "    openPage(page)\n",
    "    time.sleep(1)\n",
    "    # Email\n",
    "    ele = getInput()\n",
    "    ele.send_keys(email)\n",
    "    enter(ele)\n",
    "    # User\n",
    "    ele = getInput()\n",
    "    ele.send_keys(user)\n",
    "    enter(ele)\n",
    "    # Pass\n",
    "    ele = getInputs()[1]\n",
    "    ele.send_keys(password)\n",
    "    enter(ele, 3)\n",
    "    # Logged in\n",
    "    time.sleep(6)\n",
    "\n",
    "login()"
   ]
  },
  {
   "cell_type": "code",
   "execution_count": 5,
   "id": "a413653c",
   "metadata": {},
   "outputs": [],
   "source": [
    "home = f\"https://twitter.com/{user}\"\n",
    "replies = f\"{home}/with_replies\"\n",
    "openPage(replies)"
   ]
  },
  {
   "cell_type": "code",
   "execution_count": 9,
   "id": "7b157811",
   "metadata": {},
   "outputs": [],
   "source": [
    "def dropdownMenu(tweet):\n",
    "    tweet.click()\n",
    "    return driver.find_element(By.XPATH, \"//div[@data-testid='Dropdown']\")\n",
    "\n",
    "def startDelete(t):\n",
    "    dropdown = dropdownMenu(t)\n",
    "    time.sleep(0.1)\n",
    "    button = dropdown.find_elements(By.XPATH, \"//div[@role='menuitem']\")\n",
    "    delete = button[0]\n",
    "#     delete.send_keys(Keys.RETURN)\n",
    "\n",
    "def confirmDelete():\n",
    "    delete = driver.find_elements(By.XPATH, \"//div[@data-testid='confirmationSheetConfirm']\")\n",
    "    time.sleep(0.3)\n",
    "    delete[0].click()\n",
    "    print(f\"Delete {len(delete)}\")\n",
    "\n",
    "def deleteTweet(t):\n",
    "    startDelete(t)\n",
    "#     confirmDelete()\n",
    "        \n",
    "def findTweets():\n",
    "    tweets = driver.find_elements(By.XPATH, \"//div[@data-testid='caret'][@aria-haspopup='menu']\")\n",
    "    return tweets\n",
    "\n",
    "def isOwnTweet():\n",
    "    find_element(By.LINK_TEXT, \"link text\")\n",
    "\n",
    "def deleteAllTweets():\n",
    "    tweet = findTweets()\n",
    "    i = 0\n",
    "#     while len(tweet):\n",
    "#         deleteTweet(tweet[i])\n",
    "#         i = i+1\n",
    "    isOwnTweet()\n",
    "    deleteTweet(tweet[i])\n",
    "    \n",
    "\n",
    "deleteAllTweets()"
   ]
  },
  {
   "cell_type": "code",
   "execution_count": null,
   "id": "c37e1b73",
   "metadata": {},
   "outputs": [],
   "source": []
  }
 ],
 "metadata": {
  "kernelspec": {
   "display_name": "Python 3 (ipykernel)",
   "language": "python",
   "name": "python3"
  },
  "language_info": {
   "codemirror_mode": {
    "name": "ipython",
    "version": 3
   },
   "file_extension": ".py",
   "mimetype": "text/x-python",
   "name": "python",
   "nbconvert_exporter": "python",
   "pygments_lexer": "ipython3",
   "version": "3.11.2"
  }
 },
 "nbformat": 4,
 "nbformat_minor": 5
}
